{
 "cells": [
  {
   "cell_type": "markdown",
   "metadata": {
    "toc": true
   },
   "source": [
    "<h1>Table of Contents<span class=\"tocSkip\"></span></h1>\n",
    "<div class=\"toc\" style=\"margin-top: 1em;\"><ul class=\"toc-item\"><li><span><a href=\"#US-Counties\" data-toc-modified-id=\"US-Counties-1\"><span class=\"toc-item-num\">1&nbsp;&nbsp;</span>US Counties</a></span></li></ul></div>"
   ]
  },
  {
   "cell_type": "markdown",
   "metadata": {},
   "source": [
    "# US Counties\n",
    "\n",
    "The dataset records in this project are indexed by county. Each county is designated a 5-digit FIPS code (https://en.wikipedia.org/wiki/FIPS_county_code). In this exercise, we walk through generating a visualization of the US counties using data provided by the US Census Bureau (https://www.census.gov/geo/maps-data/data/cbf/cbf_counties.html). It exists in the form a shapefile and is already included in this repository."
   ]
  },
  {
   "cell_type": "markdown",
   "metadata": {},
   "source": [
    "First we setup our environment:"
   ]
  },
  {
   "cell_type": "code",
   "execution_count": 1,
   "metadata": {},
   "outputs": [],
   "source": [
    "import os, sys, re, json, time\n",
    "import matplotlib\n",
    "from copy import deepcopy\n",
    "from subprocess import check_output\n",
    "import netCDF4 as NC\n",
    "import numpy as np\n",
    "import pandas as pd\n",
    "import geopandas as gpd\n",
    "import matplotlib.pyplot as plt\n",
    "from ipyleaflet import Map, GeoJSON, Choropleth\n",
    "from ipywidgets import Layout\n",
    "from astropy.time import Time\n",
    "from IPython.display import display, HTML, Markdown\n",
    "from shapely.geometry import Point, Polygon, MultiPolygon, LineString, mapping\n",
    "import geojson\n",
    "import seaborn as sns\n",
    "\n",
    "sns.set_style('white')\n",
    "\n",
    "%matplotlib inline"
   ]
  },
  {
   "cell_type": "markdown",
   "metadata": {},
   "source": [
    "Next we read in the US county shapefile into a GeoPandas dataframe:"
   ]
  },
  {
   "cell_type": "code",
   "execution_count": 2,
   "metadata": {},
   "outputs": [],
   "source": [
    "def get_us_multipolygon():\n",
    "    \"\"\"Return multipolygon of US counties.\"\"\"\n",
    "    \n",
    "    counties_shp = os.path.join(\"geo_data\", \"counties\", \"cb_2017_us_county_500k.shp\")\n",
    "    us = gpd.read_file(counties_shp)\n",
    "    us = us.to_crs(epsg=4326) # reproject to -180, 180\n",
    "    return us\n",
    "    \n",
    "# get geopandas data frame of US county polygons\n",
    "us_polys = get_us_multipolygon()"
   ]
  },
  {
   "cell_type": "markdown",
   "metadata": {},
   "source": [
    "Now that we have this dataframe, let's display it in table format:"
   ]
  },
  {
   "cell_type": "code",
   "execution_count": 3,
   "metadata": {},
   "outputs": [
    {
     "data": {
      "text/html": [
       "<div>\n",
       "<style scoped>\n",
       "    .dataframe tbody tr th:only-of-type {\n",
       "        vertical-align: middle;\n",
       "    }\n",
       "\n",
       "    .dataframe tbody tr th {\n",
       "        vertical-align: top;\n",
       "    }\n",
       "\n",
       "    .dataframe thead th {\n",
       "        text-align: right;\n",
       "    }\n",
       "</style>\n",
       "<table border=\"1\" class=\"dataframe\">\n",
       "  <thead>\n",
       "    <tr style=\"text-align: right;\">\n",
       "      <th></th>\n",
       "      <th>STATEFP</th>\n",
       "      <th>COUNTYFP</th>\n",
       "      <th>COUNTYNS</th>\n",
       "      <th>AFFGEOID</th>\n",
       "      <th>GEOID</th>\n",
       "      <th>NAME</th>\n",
       "      <th>LSAD</th>\n",
       "      <th>ALAND</th>\n",
       "      <th>AWATER</th>\n",
       "      <th>geometry</th>\n",
       "    </tr>\n",
       "  </thead>\n",
       "  <tbody>\n",
       "    <tr>\n",
       "      <th>0</th>\n",
       "      <td>01</td>\n",
       "      <td>005</td>\n",
       "      <td>00161528</td>\n",
       "      <td>0500000US01005</td>\n",
       "      <td>01005</td>\n",
       "      <td>Barbour</td>\n",
       "      <td>06</td>\n",
       "      <td>2292144656</td>\n",
       "      <td>50538698</td>\n",
       "      <td>POLYGON ((-85.74803199999999 31.619181, -85.74...</td>\n",
       "    </tr>\n",
       "    <tr>\n",
       "      <th>1</th>\n",
       "      <td>01</td>\n",
       "      <td>023</td>\n",
       "      <td>00161537</td>\n",
       "      <td>0500000US01023</td>\n",
       "      <td>01023</td>\n",
       "      <td>Choctaw</td>\n",
       "      <td>06</td>\n",
       "      <td>2365869837</td>\n",
       "      <td>19144469</td>\n",
       "      <td>POLYGON ((-88.47322699999999 31.893856, -88.46...</td>\n",
       "    </tr>\n",
       "    <tr>\n",
       "      <th>2</th>\n",
       "      <td>01</td>\n",
       "      <td>035</td>\n",
       "      <td>00161543</td>\n",
       "      <td>0500000US01035</td>\n",
       "      <td>01035</td>\n",
       "      <td>Conecuh</td>\n",
       "      <td>06</td>\n",
       "      <td>2201948618</td>\n",
       "      <td>6643480</td>\n",
       "      <td>POLYGON ((-87.42720399999999 31.26436, -87.425...</td>\n",
       "    </tr>\n",
       "    <tr>\n",
       "      <th>3</th>\n",
       "      <td>01</td>\n",
       "      <td>051</td>\n",
       "      <td>00161551</td>\n",
       "      <td>0500000US01051</td>\n",
       "      <td>01051</td>\n",
       "      <td>Elmore</td>\n",
       "      <td>06</td>\n",
       "      <td>1601762124</td>\n",
       "      <td>99965171</td>\n",
       "      <td>POLYGON ((-86.41333499999999 32.750591, -86.37...</td>\n",
       "    </tr>\n",
       "    <tr>\n",
       "      <th>4</th>\n",
       "      <td>01</td>\n",
       "      <td>065</td>\n",
       "      <td>00161558</td>\n",
       "      <td>0500000US01065</td>\n",
       "      <td>01065</td>\n",
       "      <td>Hale</td>\n",
       "      <td>06</td>\n",
       "      <td>1667907107</td>\n",
       "      <td>32423356</td>\n",
       "      <td>POLYGON ((-87.870464 32.76244200000001, -87.86...</td>\n",
       "    </tr>\n",
       "  </tbody>\n",
       "</table>\n",
       "</div>"
      ],
      "text/plain": [
       "  STATEFP COUNTYFP  COUNTYNS        AFFGEOID  GEOID     NAME LSAD       ALAND  \\\n",
       "0      01      005  00161528  0500000US01005  01005  Barbour   06  2292144656   \n",
       "1      01      023  00161537  0500000US01023  01023  Choctaw   06  2365869837   \n",
       "2      01      035  00161543  0500000US01035  01035  Conecuh   06  2201948618   \n",
       "3      01      051  00161551  0500000US01051  01051   Elmore   06  1601762124   \n",
       "4      01      065  00161558  0500000US01065  01065     Hale   06  1667907107   \n",
       "\n",
       "     AWATER                                           geometry  \n",
       "0  50538698  POLYGON ((-85.74803199999999 31.619181, -85.74...  \n",
       "1  19144469  POLYGON ((-88.47322699999999 31.893856, -88.46...  \n",
       "2   6643480  POLYGON ((-87.42720399999999 31.26436, -87.425...  \n",
       "3  99965171  POLYGON ((-86.41333499999999 32.750591, -86.37...  \n",
       "4  32423356  POLYGON ((-87.870464 32.76244200000001, -87.86...  "
      ]
     },
     "metadata": {},
     "output_type": "display_data"
    }
   ],
   "source": [
    "display(us_polys.head())"
   ]
  },
  {
   "cell_type": "markdown",
   "metadata": {},
   "source": [
    "Note the field names above. In particular, the `GEOID` field corresponds to the 5-digit FIPS code we discussed earlier. Let's update the dataframe to rename the `GEOID` column to `fips`, set `fips` to be the index of the dataframe. We then display the updated table:"
   ]
  },
  {
   "cell_type": "code",
   "execution_count": 4,
   "metadata": {},
   "outputs": [
    {
     "data": {
      "text/html": [
       "<div>\n",
       "<style scoped>\n",
       "    .dataframe tbody tr th:only-of-type {\n",
       "        vertical-align: middle;\n",
       "    }\n",
       "\n",
       "    .dataframe tbody tr th {\n",
       "        vertical-align: top;\n",
       "    }\n",
       "\n",
       "    .dataframe thead th {\n",
       "        text-align: right;\n",
       "    }\n",
       "</style>\n",
       "<table border=\"1\" class=\"dataframe\">\n",
       "  <thead>\n",
       "    <tr style=\"text-align: right;\">\n",
       "      <th></th>\n",
       "      <th>STATEFP</th>\n",
       "      <th>COUNTYFP</th>\n",
       "      <th>COUNTYNS</th>\n",
       "      <th>AFFGEOID</th>\n",
       "      <th>NAME</th>\n",
       "      <th>LSAD</th>\n",
       "      <th>ALAND</th>\n",
       "      <th>AWATER</th>\n",
       "      <th>geometry</th>\n",
       "    </tr>\n",
       "    <tr>\n",
       "      <th>fips</th>\n",
       "      <th></th>\n",
       "      <th></th>\n",
       "      <th></th>\n",
       "      <th></th>\n",
       "      <th></th>\n",
       "      <th></th>\n",
       "      <th></th>\n",
       "      <th></th>\n",
       "      <th></th>\n",
       "    </tr>\n",
       "  </thead>\n",
       "  <tbody>\n",
       "    <tr>\n",
       "      <th>01005</th>\n",
       "      <td>01</td>\n",
       "      <td>005</td>\n",
       "      <td>00161528</td>\n",
       "      <td>0500000US01005</td>\n",
       "      <td>Barbour</td>\n",
       "      <td>06</td>\n",
       "      <td>2292144656</td>\n",
       "      <td>50538698</td>\n",
       "      <td>POLYGON ((-85.74803199999999 31.619181, -85.74...</td>\n",
       "    </tr>\n",
       "    <tr>\n",
       "      <th>01023</th>\n",
       "      <td>01</td>\n",
       "      <td>023</td>\n",
       "      <td>00161537</td>\n",
       "      <td>0500000US01023</td>\n",
       "      <td>Choctaw</td>\n",
       "      <td>06</td>\n",
       "      <td>2365869837</td>\n",
       "      <td>19144469</td>\n",
       "      <td>POLYGON ((-88.47322699999999 31.893856, -88.46...</td>\n",
       "    </tr>\n",
       "    <tr>\n",
       "      <th>01035</th>\n",
       "      <td>01</td>\n",
       "      <td>035</td>\n",
       "      <td>00161543</td>\n",
       "      <td>0500000US01035</td>\n",
       "      <td>Conecuh</td>\n",
       "      <td>06</td>\n",
       "      <td>2201948618</td>\n",
       "      <td>6643480</td>\n",
       "      <td>POLYGON ((-87.42720399999999 31.26436, -87.425...</td>\n",
       "    </tr>\n",
       "    <tr>\n",
       "      <th>01051</th>\n",
       "      <td>01</td>\n",
       "      <td>051</td>\n",
       "      <td>00161551</td>\n",
       "      <td>0500000US01051</td>\n",
       "      <td>Elmore</td>\n",
       "      <td>06</td>\n",
       "      <td>1601762124</td>\n",
       "      <td>99965171</td>\n",
       "      <td>POLYGON ((-86.41333499999999 32.750591, -86.37...</td>\n",
       "    </tr>\n",
       "    <tr>\n",
       "      <th>01065</th>\n",
       "      <td>01</td>\n",
       "      <td>065</td>\n",
       "      <td>00161558</td>\n",
       "      <td>0500000US01065</td>\n",
       "      <td>Hale</td>\n",
       "      <td>06</td>\n",
       "      <td>1667907107</td>\n",
       "      <td>32423356</td>\n",
       "      <td>POLYGON ((-87.870464 32.76244200000001, -87.86...</td>\n",
       "    </tr>\n",
       "  </tbody>\n",
       "</table>\n",
       "</div>"
      ],
      "text/plain": [
       "      STATEFP COUNTYFP  COUNTYNS        AFFGEOID     NAME LSAD       ALAND  \\\n",
       "fips                                                                         \n",
       "01005      01      005  00161528  0500000US01005  Barbour   06  2292144656   \n",
       "01023      01      023  00161537  0500000US01023  Choctaw   06  2365869837   \n",
       "01035      01      035  00161543  0500000US01035  Conecuh   06  2201948618   \n",
       "01051      01      051  00161551  0500000US01051   Elmore   06  1601762124   \n",
       "01065      01      065  00161558  0500000US01065     Hale   06  1667907107   \n",
       "\n",
       "         AWATER                                           geometry  \n",
       "fips                                                                \n",
       "01005  50538698  POLYGON ((-85.74803199999999 31.619181, -85.74...  \n",
       "01023  19144469  POLYGON ((-88.47322699999999 31.893856, -88.46...  \n",
       "01035   6643480  POLYGON ((-87.42720399999999 31.26436, -87.425...  \n",
       "01051  99965171  POLYGON ((-86.41333499999999 32.750591, -86.37...  \n",
       "01065  32423356  POLYGON ((-87.870464 32.76244200000001, -87.86...  "
      ]
     },
     "metadata": {},
     "output_type": "display_data"
    }
   ],
   "source": [
    "us_fips = us_polys.rename(index=str, columns={\"GEOID\": \"fips\"}).set_index('fips')\n",
    "display(us_fips.head())"
   ]
  },
  {
   "cell_type": "markdown",
   "metadata": {},
   "source": [
    "Next let's display the data on a leaflet map. First we draw a base leaflet map centered on the CONUS (continental US):"
   ]
  },
  {
   "cell_type": "code",
   "execution_count": 5,
   "metadata": {},
   "outputs": [
    {
     "data": {
      "application/vnd.jupyter.widget-view+json": {
       "model_id": "ddd82172182c4578b7f5ca1cc6d80964",
       "version_major": 2,
       "version_minor": 0
      },
      "text/plain": [
       "Map(basemap={'url': 'https://{s}.tile.openstreetmap.org/{z}/{x}/{y}.png', 'max_zoom': 19, 'attribution': 'Map …"
      ]
     },
     "metadata": {},
     "output_type": "display_data"
    }
   ],
   "source": [
    "# zoom in on the southeastern US\n",
    "m = Map(center=[31, -85], zoom=6, layout=Layout(height='600px', align_self='stretch'))\n",
    "m"
   ]
  },
  {
   "cell_type": "markdown",
   "metadata": {},
   "source": [
    "Now we plot the counties onto the leaflet map above (this may take a minute or two):"
   ]
  },
  {
   "cell_type": "code",
   "execution_count": 6,
   "metadata": {},
   "outputs": [],
   "source": [
    "l = GeoJSON(data=us_fips.__geo_interface__,\n",
    "            hover_style={'fillColor': 'red'})\n",
    "m.add_layer(l)"
   ]
  },
  {
   "cell_type": "code",
   "execution_count": null,
   "metadata": {},
   "outputs": [],
   "source": []
  }
 ],
 "metadata": {
  "kernelspec": {
   "display_name": "Python 3",
   "language": "python",
   "name": "python3"
  },
  "language_info": {
   "codemirror_mode": {
    "name": "ipython",
    "version": 3
   },
   "file_extension": ".py",
   "mimetype": "text/x-python",
   "name": "python",
   "nbconvert_exporter": "python",
   "pygments_lexer": "ipython3",
   "version": "3.7.1"
  },
  "toc": {
   "nav_menu": {},
   "number_sections": true,
   "sideBar": true,
   "skip_h1_title": false,
   "toc_cell": true,
   "toc_position": {},
   "toc_section_display": "block",
   "toc_window_display": false
  }
 },
 "nbformat": 4,
 "nbformat_minor": 2
}
