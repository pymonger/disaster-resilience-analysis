{
 "cells": [
  {
   "cell_type": "markdown",
   "metadata": {
    "toc": true
   },
   "source": [
    "<h1>Table of Contents<span class=\"tocSkip\"></span></h1>\n",
    "<div class=\"toc\" style=\"margin-top: 1em;\"><ul class=\"toc-item\"><li><span><a href=\"#Background\" data-toc-modified-id=\"Background-1\"><span class=\"toc-item-num\">1&nbsp;&nbsp;</span>Background</a></span></li><li><span><a href=\"#US-Counties\" data-toc-modified-id=\"US-Counties-2\"><span class=\"toc-item-num\">2&nbsp;&nbsp;</span>US Counties</a></span></li><li><span><a href=\"#Disaster-Resilience-Components\" data-toc-modified-id=\"Disaster-Resilience-Components-3\"><span class=\"toc-item-num\">3&nbsp;&nbsp;</span>Disaster Resilience Components</a></span></li></ul></div>"
   ]
  },
  {
   "cell_type": "markdown",
   "metadata": {},
   "source": [
    "# Background\n",
    "\n",
    "This project is based on the work of Susan L. Cutter, Christopher Burton and Christopher Emrich entitled [Disaster Resilience Indicators for Benchmarking Baseline Conditions](Cutter_jhsem.2010.7.1.1732.pdf). Click on the link to open up the paper and please give it a read. It will provide essential background for this project."
   ]
  },
  {
   "cell_type": "markdown",
   "metadata": {},
   "source": [
    "# US Counties\n",
    "\n",
    "The dataset records in this project are indexed by county. Each county is designated a 5-digit FIPS code (https://en.wikipedia.org/wiki/FIPS_county_code). In this exercise, we walk through generating a visualization of the US counties using data provided by the US Census Bureau (https://www.census.gov/geo/maps-data/data/cbf/cbf_counties.html). It exists in the form a shapefile and is already included in this repository."
   ]
  },
  {
   "cell_type": "markdown",
   "metadata": {},
   "source": [
    "First we setup our environment:"
   ]
  },
  {
   "cell_type": "code",
   "execution_count": 1,
   "metadata": {},
   "outputs": [],
   "source": [
    "import os, sys, re, json, time\n",
    "import matplotlib\n",
    "from copy import deepcopy\n",
    "from subprocess import check_output\n",
    "import netCDF4 as NC\n",
    "import numpy as np\n",
    "import pandas as pd\n",
    "import geopandas as gpd\n",
    "import matplotlib.pyplot as plt\n",
    "from ipyleaflet import Map, GeoJSON, Choropleth\n",
    "from ipywidgets import Layout, link, FloatSlider, Label, VBox\n",
    "from astropy.time import Time\n",
    "from IPython.display import display, HTML, Markdown\n",
    "from branca.colormap import linear, LinearColormap\n",
    "from shapely.geometry import Point, Polygon, MultiPolygon, LineString, mapping\n",
    "import geojson\n",
    "import seaborn as sns\n",
    "\n",
    "sns.set_style('white')\n",
    "\n",
    "%matplotlib inline"
   ]
  },
  {
   "cell_type": "markdown",
   "metadata": {},
   "source": [
    "Next we read in the US county shapefile into a GeoPandas dataframe:"
   ]
  },
  {
   "cell_type": "code",
   "execution_count": 2,
   "metadata": {},
   "outputs": [],
   "source": [
    "def get_us_multipolygon():\n",
    "    \"\"\"Return multipolygon of US counties.\"\"\"\n",
    "    \n",
    "    counties_shp = os.path.join(\"geo_data\", \"counties\", \"cb_2017_us_county_500k.shp\")\n",
    "    us = gpd.read_file(counties_shp)\n",
    "    us = us.to_crs(epsg=4326) # reproject to -180, 180\n",
    "    return us\n",
    "    \n",
    "# get geopandas data frame of US county polygons\n",
    "us_polys = get_us_multipolygon()"
   ]
  },
  {
   "cell_type": "markdown",
   "metadata": {},
   "source": [
    "Now that we have this dataframe, let's display it in table format:"
   ]
  },
  {
   "cell_type": "code",
   "execution_count": 3,
   "metadata": {},
   "outputs": [
    {
     "data": {
      "text/html": [
       "<div>\n",
       "<style scoped>\n",
       "    .dataframe tbody tr th:only-of-type {\n",
       "        vertical-align: middle;\n",
       "    }\n",
       "\n",
       "    .dataframe tbody tr th {\n",
       "        vertical-align: top;\n",
       "    }\n",
       "\n",
       "    .dataframe thead th {\n",
       "        text-align: right;\n",
       "    }\n",
       "</style>\n",
       "<table border=\"1\" class=\"dataframe\">\n",
       "  <thead>\n",
       "    <tr style=\"text-align: right;\">\n",
       "      <th></th>\n",
       "      <th>STATEFP</th>\n",
       "      <th>COUNTYFP</th>\n",
       "      <th>COUNTYNS</th>\n",
       "      <th>AFFGEOID</th>\n",
       "      <th>GEOID</th>\n",
       "      <th>NAME</th>\n",
       "      <th>LSAD</th>\n",
       "      <th>ALAND</th>\n",
       "      <th>AWATER</th>\n",
       "      <th>geometry</th>\n",
       "    </tr>\n",
       "  </thead>\n",
       "  <tbody>\n",
       "    <tr>\n",
       "      <th>0</th>\n",
       "      <td>01</td>\n",
       "      <td>005</td>\n",
       "      <td>00161528</td>\n",
       "      <td>0500000US01005</td>\n",
       "      <td>01005</td>\n",
       "      <td>Barbour</td>\n",
       "      <td>06</td>\n",
       "      <td>2292144656</td>\n",
       "      <td>50538698</td>\n",
       "      <td>POLYGON ((-85.74803199999999 31.619181, -85.74...</td>\n",
       "    </tr>\n",
       "    <tr>\n",
       "      <th>1</th>\n",
       "      <td>01</td>\n",
       "      <td>023</td>\n",
       "      <td>00161537</td>\n",
       "      <td>0500000US01023</td>\n",
       "      <td>01023</td>\n",
       "      <td>Choctaw</td>\n",
       "      <td>06</td>\n",
       "      <td>2365869837</td>\n",
       "      <td>19144469</td>\n",
       "      <td>POLYGON ((-88.47322699999999 31.893856, -88.46...</td>\n",
       "    </tr>\n",
       "    <tr>\n",
       "      <th>2</th>\n",
       "      <td>01</td>\n",
       "      <td>035</td>\n",
       "      <td>00161543</td>\n",
       "      <td>0500000US01035</td>\n",
       "      <td>01035</td>\n",
       "      <td>Conecuh</td>\n",
       "      <td>06</td>\n",
       "      <td>2201948618</td>\n",
       "      <td>6643480</td>\n",
       "      <td>POLYGON ((-87.42720399999999 31.26436, -87.425...</td>\n",
       "    </tr>\n",
       "    <tr>\n",
       "      <th>3</th>\n",
       "      <td>01</td>\n",
       "      <td>051</td>\n",
       "      <td>00161551</td>\n",
       "      <td>0500000US01051</td>\n",
       "      <td>01051</td>\n",
       "      <td>Elmore</td>\n",
       "      <td>06</td>\n",
       "      <td>1601762124</td>\n",
       "      <td>99965171</td>\n",
       "      <td>POLYGON ((-86.41333499999999 32.750591, -86.37...</td>\n",
       "    </tr>\n",
       "    <tr>\n",
       "      <th>4</th>\n",
       "      <td>01</td>\n",
       "      <td>065</td>\n",
       "      <td>00161558</td>\n",
       "      <td>0500000US01065</td>\n",
       "      <td>01065</td>\n",
       "      <td>Hale</td>\n",
       "      <td>06</td>\n",
       "      <td>1667907107</td>\n",
       "      <td>32423356</td>\n",
       "      <td>POLYGON ((-87.870464 32.76244200000001, -87.86...</td>\n",
       "    </tr>\n",
       "  </tbody>\n",
       "</table>\n",
       "</div>"
      ],
      "text/plain": [
       "  STATEFP COUNTYFP  COUNTYNS        AFFGEOID  GEOID     NAME LSAD       ALAND  \\\n",
       "0      01      005  00161528  0500000US01005  01005  Barbour   06  2292144656   \n",
       "1      01      023  00161537  0500000US01023  01023  Choctaw   06  2365869837   \n",
       "2      01      035  00161543  0500000US01035  01035  Conecuh   06  2201948618   \n",
       "3      01      051  00161551  0500000US01051  01051   Elmore   06  1601762124   \n",
       "4      01      065  00161558  0500000US01065  01065     Hale   06  1667907107   \n",
       "\n",
       "     AWATER                                           geometry  \n",
       "0  50538698  POLYGON ((-85.74803199999999 31.619181, -85.74...  \n",
       "1  19144469  POLYGON ((-88.47322699999999 31.893856, -88.46...  \n",
       "2   6643480  POLYGON ((-87.42720399999999 31.26436, -87.425...  \n",
       "3  99965171  POLYGON ((-86.41333499999999 32.750591, -86.37...  \n",
       "4  32423356  POLYGON ((-87.870464 32.76244200000001, -87.86...  "
      ]
     },
     "metadata": {},
     "output_type": "display_data"
    }
   ],
   "source": [
    "display(us_polys.head())"
   ]
  },
  {
   "cell_type": "markdown",
   "metadata": {},
   "source": [
    "Note the field names above. In particular, the `GEOID` field corresponds to the 5-digit FIPS code we discussed earlier. Let's update the dataframe to rename the `GEOID` column to `fips`, set `fips` to be the index of the dataframe. We then display the updated table:"
   ]
  },
  {
   "cell_type": "code",
   "execution_count": 4,
   "metadata": {},
   "outputs": [
    {
     "data": {
      "text/html": [
       "<div>\n",
       "<style scoped>\n",
       "    .dataframe tbody tr th:only-of-type {\n",
       "        vertical-align: middle;\n",
       "    }\n",
       "\n",
       "    .dataframe tbody tr th {\n",
       "        vertical-align: top;\n",
       "    }\n",
       "\n",
       "    .dataframe thead th {\n",
       "        text-align: right;\n",
       "    }\n",
       "</style>\n",
       "<table border=\"1\" class=\"dataframe\">\n",
       "  <thead>\n",
       "    <tr style=\"text-align: right;\">\n",
       "      <th></th>\n",
       "      <th>STATEFP</th>\n",
       "      <th>COUNTYFP</th>\n",
       "      <th>COUNTYNS</th>\n",
       "      <th>AFFGEOID</th>\n",
       "      <th>NAME</th>\n",
       "      <th>LSAD</th>\n",
       "      <th>ALAND</th>\n",
       "      <th>AWATER</th>\n",
       "      <th>geometry</th>\n",
       "    </tr>\n",
       "    <tr>\n",
       "      <th>fips</th>\n",
       "      <th></th>\n",
       "      <th></th>\n",
       "      <th></th>\n",
       "      <th></th>\n",
       "      <th></th>\n",
       "      <th></th>\n",
       "      <th></th>\n",
       "      <th></th>\n",
       "      <th></th>\n",
       "    </tr>\n",
       "  </thead>\n",
       "  <tbody>\n",
       "    <tr>\n",
       "      <th>01005</th>\n",
       "      <td>01</td>\n",
       "      <td>005</td>\n",
       "      <td>00161528</td>\n",
       "      <td>0500000US01005</td>\n",
       "      <td>Barbour</td>\n",
       "      <td>06</td>\n",
       "      <td>2292144656</td>\n",
       "      <td>50538698</td>\n",
       "      <td>POLYGON ((-85.74803199999999 31.619181, -85.74...</td>\n",
       "    </tr>\n",
       "    <tr>\n",
       "      <th>01023</th>\n",
       "      <td>01</td>\n",
       "      <td>023</td>\n",
       "      <td>00161537</td>\n",
       "      <td>0500000US01023</td>\n",
       "      <td>Choctaw</td>\n",
       "      <td>06</td>\n",
       "      <td>2365869837</td>\n",
       "      <td>19144469</td>\n",
       "      <td>POLYGON ((-88.47322699999999 31.893856, -88.46...</td>\n",
       "    </tr>\n",
       "    <tr>\n",
       "      <th>01035</th>\n",
       "      <td>01</td>\n",
       "      <td>035</td>\n",
       "      <td>00161543</td>\n",
       "      <td>0500000US01035</td>\n",
       "      <td>Conecuh</td>\n",
       "      <td>06</td>\n",
       "      <td>2201948618</td>\n",
       "      <td>6643480</td>\n",
       "      <td>POLYGON ((-87.42720399999999 31.26436, -87.425...</td>\n",
       "    </tr>\n",
       "    <tr>\n",
       "      <th>01051</th>\n",
       "      <td>01</td>\n",
       "      <td>051</td>\n",
       "      <td>00161551</td>\n",
       "      <td>0500000US01051</td>\n",
       "      <td>Elmore</td>\n",
       "      <td>06</td>\n",
       "      <td>1601762124</td>\n",
       "      <td>99965171</td>\n",
       "      <td>POLYGON ((-86.41333499999999 32.750591, -86.37...</td>\n",
       "    </tr>\n",
       "    <tr>\n",
       "      <th>01065</th>\n",
       "      <td>01</td>\n",
       "      <td>065</td>\n",
       "      <td>00161558</td>\n",
       "      <td>0500000US01065</td>\n",
       "      <td>Hale</td>\n",
       "      <td>06</td>\n",
       "      <td>1667907107</td>\n",
       "      <td>32423356</td>\n",
       "      <td>POLYGON ((-87.870464 32.76244200000001, -87.86...</td>\n",
       "    </tr>\n",
       "  </tbody>\n",
       "</table>\n",
       "</div>"
      ],
      "text/plain": [
       "      STATEFP COUNTYFP  COUNTYNS        AFFGEOID     NAME LSAD       ALAND  \\\n",
       "fips                                                                         \n",
       "01005      01      005  00161528  0500000US01005  Barbour   06  2292144656   \n",
       "01023      01      023  00161537  0500000US01023  Choctaw   06  2365869837   \n",
       "01035      01      035  00161543  0500000US01035  Conecuh   06  2201948618   \n",
       "01051      01      051  00161551  0500000US01051   Elmore   06  1601762124   \n",
       "01065      01      065  00161558  0500000US01065     Hale   06  1667907107   \n",
       "\n",
       "         AWATER                                           geometry  \n",
       "fips                                                                \n",
       "01005  50538698  POLYGON ((-85.74803199999999 31.619181, -85.74...  \n",
       "01023  19144469  POLYGON ((-88.47322699999999 31.893856, -88.46...  \n",
       "01035   6643480  POLYGON ((-87.42720399999999 31.26436, -87.425...  \n",
       "01051  99965171  POLYGON ((-86.41333499999999 32.750591, -86.37...  \n",
       "01065  32423356  POLYGON ((-87.870464 32.76244200000001, -87.86...  "
      ]
     },
     "metadata": {},
     "output_type": "display_data"
    }
   ],
   "source": [
    "us_fips = us_polys.rename(index=str, columns={\"GEOID\": \"fips\"}).set_index('fips')\n",
    "display(us_fips.head())"
   ]
  },
  {
   "cell_type": "markdown",
   "metadata": {},
   "source": [
    "Next let's display the data on a leaflet map. First we draw a base leaflet map centered on the CONUS (continental US):"
   ]
  },
  {
   "cell_type": "code",
   "execution_count": 5,
   "metadata": {},
   "outputs": [
    {
     "data": {
      "application/vnd.jupyter.widget-view+json": {
       "model_id": "e7aed9d5c0aa4aad93079f9f88b7c611",
       "version_major": 2,
       "version_minor": 0
      },
      "text/plain": [
       "Map(basemap={'url': 'https://{s}.tile.openstreetmap.org/{z}/{x}/{y}.png', 'max_zoom': 19, 'attribution': 'Map …"
      ]
     },
     "metadata": {},
     "output_type": "display_data"
    }
   ],
   "source": [
    "# zoom in on the southeastern US\n",
    "m = Map(center=[31, -85], zoom=6, layout=Layout(height='600px', align_self='stretch'))\n",
    "m"
   ]
  },
  {
   "cell_type": "markdown",
   "metadata": {},
   "source": [
    "Now we plot the counties onto the leaflet map above (this may take a minute or two):"
   ]
  },
  {
   "cell_type": "code",
   "execution_count": 6,
   "metadata": {},
   "outputs": [],
   "source": [
    "l = GeoJSON(data=us_fips.__geo_interface__,\n",
    "            hover_style={'fillColor': 'red'})\n",
    "m.add_layer(l)"
   ]
  },
  {
   "cell_type": "markdown",
   "metadata": {},
   "source": [
    "# Disaster Resilience Components\n",
    "\n",
    "The CSV (comma-delimited) files located under `sql/results` contain the normalized scores of each county for a particular variable. Each variable contributes to one of the 5 composite indicators or components:\n",
    "\n",
    "1. Social Resilience\n",
    "1. Economic Resilience\n",
    "1. Institutional Resilience\n",
    "1. Infrastructural Resilience\n",
    "1. Community Resilience\n",
    "\n",
    "Take the following CSV files for example:"
   ]
  },
  {
   "cell_type": "code",
   "execution_count": 7,
   "metadata": {},
   "outputs": [
    {
     "name": "stdout",
     "output_type": "stream",
     "text": [
      "sql/results/11-social-educational_equity.csv\n",
      "sql/results/12-social-age.csv\n",
      "sql/results/13-social-transportation_access.csv\n",
      "sql/results/14-social-communication_capacity.csv\n",
      "sql/results/15-social-language_competency.csv\n",
      "sql/results/16-social-special_needs.csv\n",
      "sql/results/17-social-health_coverage.csv\n"
     ]
    }
   ],
   "source": [
    "from glob import glob\n",
    "\n",
    "var_dir = os.path.join(\"sql\", \"results\")\n",
    "print(\"\\n\".join(glob(\"{}/*-social-*\".format(var_dir))))"
   ]
  },
  {
   "cell_type": "markdown",
   "metadata": {},
   "source": [
    "These files contain the normalized scores (between 0 and 1 where a score of 0 is the worst rank for a specific indicator and 1 is the best) for each county for a particular variable that contributes to the composite score for `Social Resilience`: educational equity, age, transportation access, communication capacity, language competency, special needs, and health coverage.\n",
    "\n",
    "Let's take a look at `sql/results/11-social-educational_equity.csv`. According to Cutter et al., education equity is the \"ratio of the pct. population with college education to the pct. population with no high school diploma\"."
   ]
  },
  {
   "cell_type": "code",
   "execution_count": 8,
   "metadata": {},
   "outputs": [
    {
     "data": {
      "text/html": [
       "<div>\n",
       "<style scoped>\n",
       "    .dataframe tbody tr th:only-of-type {\n",
       "        vertical-align: middle;\n",
       "    }\n",
       "\n",
       "    .dataframe tbody tr th {\n",
       "        vertical-align: top;\n",
       "    }\n",
       "\n",
       "    .dataframe thead th {\n",
       "        text-align: right;\n",
       "    }\n",
       "</style>\n",
       "<table border=\"1\" class=\"dataframe\">\n",
       "  <thead>\n",
       "    <tr style=\"text-align: right;\">\n",
       "      <th></th>\n",
       "      <th>measure</th>\n",
       "      <th>source</th>\n",
       "      <th>date</th>\n",
       "    </tr>\n",
       "    <tr>\n",
       "      <th>fips</th>\n",
       "      <th></th>\n",
       "      <th></th>\n",
       "      <th></th>\n",
       "    </tr>\n",
       "  </thead>\n",
       "  <tbody>\n",
       "    <tr>\n",
       "      <th>01001</th>\n",
       "      <td>0.062327</td>\n",
       "      <td>11</td>\n",
       "      <td>1/1/2016</td>\n",
       "    </tr>\n",
       "    <tr>\n",
       "      <th>01003</th>\n",
       "      <td>0.095348</td>\n",
       "      <td>11</td>\n",
       "      <td>1/1/2016</td>\n",
       "    </tr>\n",
       "    <tr>\n",
       "      <th>01005</th>\n",
       "      <td>0.019597</td>\n",
       "      <td>11</td>\n",
       "      <td>1/1/2016</td>\n",
       "    </tr>\n",
       "    <tr>\n",
       "      <th>01007</th>\n",
       "      <td>0.022472</td>\n",
       "      <td>11</td>\n",
       "      <td>1/1/2016</td>\n",
       "    </tr>\n",
       "    <tr>\n",
       "      <th>01009</th>\n",
       "      <td>0.030071</td>\n",
       "      <td>11</td>\n",
       "      <td>1/1/2016</td>\n",
       "    </tr>\n",
       "  </tbody>\n",
       "</table>\n",
       "</div>"
      ],
      "text/plain": [
       "        measure  source      date\n",
       "fips                             \n",
       "01001  0.062327      11  1/1/2016\n",
       "01003  0.095348      11  1/1/2016\n",
       "01005  0.019597      11  1/1/2016\n",
       "01007  0.022472      11  1/1/2016\n",
       "01009  0.030071      11  1/1/2016"
      ]
     },
     "metadata": {},
     "output_type": "display_data"
    }
   ],
   "source": [
    "# disaster resilience components\n",
    "drc = {}\n",
    "\n",
    "# social resilience\n",
    "drc['social'] = {}\n",
    "\n",
    "# get dataframe from csv\n",
    "df = pd.read_csv(os.path.join(\"sql\", \"results\", \"11-social-educational_equity.csv\"))\n",
    "\n",
    "# convert fips column from int to string and zero fill\n",
    "df['fips'] = df['fips'].astype(str).str.zfill(5)\n",
    "\n",
    "# set fips column as the index so we can join\n",
    "df = df.set_index('fips').sort_index()\n",
    "\n",
    "# save in our drc dict\n",
    "drc['social']['educational_equity'] = df\n",
    "display(df.head())"
   ]
  },
  {
   "cell_type": "markdown",
   "metadata": {},
   "source": [
    "Now let's try to visualize this data on a map. First let's add new column to the geopandas dataframe called `educational_equity`. We only add them for counties contained in the educational equity data frame:"
   ]
  },
  {
   "cell_type": "code",
   "execution_count": 9,
   "metadata": {},
   "outputs": [],
   "source": [
    "# get common indexes\n",
    "idx = us_fips.index.intersection(drc['social']['educational_equity'].index)\n",
    "#us_fips.loc[idx]\n",
    "\n",
    "# add education_equity column\n",
    "us_fips['educational_equity'] = drc['social']['educational_equity'].loc[idx]['measure']"
   ]
  },
  {
   "cell_type": "markdown",
   "metadata": {},
   "source": [
    "Next we set up the base map for our choropleth plot and a label to allow us to show information when the user hovers over a county."
   ]
  },
  {
   "cell_type": "code",
   "execution_count": 10,
   "metadata": {},
   "outputs": [
    {
     "data": {
      "application/vnd.jupyter.widget-view+json": {
       "model_id": "121cf9f4ab744d66aa9620e86dec5d21",
       "version_major": 2,
       "version_minor": 0
      },
      "text/plain": [
       "Map(basemap={'url': 'https://{s}.tile.openstreetmap.org/{z}/{x}/{y}.png', 'max_zoom': 19, 'attribution': 'Map …"
      ]
     },
     "metadata": {},
     "output_type": "display_data"
    }
   ],
   "source": [
    "# create a label widget\n",
    "label = Label(layout=Layout(width=\"100%\"))\n",
    "\n",
    "# zoom in on the southeastern US\n",
    "m = Map(center=[31, -85], zoom=6, layout=Layout(height='600px', align_self='stretch'))\n",
    "m"
   ]
  },
  {
   "cell_type": "markdown",
   "metadata": {},
   "source": [
    "Then we plot the data using the `Choropleth` function from ipyleaflet. We define a handler for the hover event so that it displays the hovered county's name and measure value for educational equity:"
   ]
  },
  {
   "cell_type": "code",
   "execution_count": 11,
   "metadata": {},
   "outputs": [
    {
     "data": {
      "application/vnd.jupyter.widget-view+json": {
       "model_id": "04ae703d76044d2982b3c92eb1b47af0",
       "version_major": 2,
       "version_minor": 0
      },
      "text/plain": [
       "VBox(children=(Map(basemap={'url': 'https://{s}.tile.openstreetmap.org/{z}/{x}/{y}.png', 'max_zoom': 19, 'attr…"
      ]
     },
     "metadata": {},
     "output_type": "display_data"
    }
   ],
   "source": [
    "# plot\n",
    "l = Choropleth(geo_data=us_fips.loc[idx].__geo_interface__,\n",
    "               choro_data=us_fips.loc[idx]['educational_equity'].to_dict(),\n",
    "               colormap=linear.RdBu_11,\n",
    "               border_color='black',\n",
    "               style={'opacity': 1, 'fillOpacity': 0.8, 'dashArray': '1'},\n",
    "               hover_style={'fillColor': 'red'})\n",
    "\n",
    "def hover_handler(event=None, id=None, properties=None):\n",
    "    label.value = \"County: {} | educational equity measure: {}\".format(properties['NAME'],\n",
    "                                                                       properties['educational_equity'])\n",
    "\n",
    "l.on_hover(hover_handler)\n",
    "m.add_layer(l)\n",
    "VBox([m, label])"
   ]
  },
  {
   "cell_type": "markdown",
   "metadata": {},
   "source": [
    "Hover over the counties in the map above and note the label above specifying the county name and it's education equity measure. \n",
    "\n",
    "The colormap we used to create the choropleth plot is a diverging colormap, `RdBu_11`, where dark red signifies values at the minimum value of 0 and dark blue signifies values at the maximum value of 1. The following image shows the `RdBu` colormap (https://matplotlib.org/tutorials/colors/colormaps.html):"
   ]
  },
  {
   "attachments": {
    "sphx_glr_colormaps_004.png": {
     "image/png": "[encoded data removed]"
    }
   },
   "cell_type": "markdown",
   "metadata": {},
   "source": [
    "![sphx_glr_colormaps_004.png](attachment:sphx_glr_colormaps_004.png)"
   ]
  },
  {
   "cell_type": "markdown",
   "metadata": {},
   "source": [
    "Zoom out on the leaflet map by clicking on the `-` at the top left of the map until you can see the entire CONUS (continental US). Visually, which county has the highest score for the education equity measure?\n",
    "\n",
    "If you hover over the county that's colored closest to dark blue, you'll see that Douglas county has a score of 0.768318. Is the correct? Let's verify:"
   ]
  },
  {
   "cell_type": "code",
   "execution_count": 12,
   "metadata": {},
   "outputs": [
    {
     "data": {
      "text/html": [
       "<div>\n",
       "<style scoped>\n",
       "    .dataframe tbody tr th:only-of-type {\n",
       "        vertical-align: middle;\n",
       "    }\n",
       "\n",
       "    .dataframe tbody tr th {\n",
       "        vertical-align: top;\n",
       "    }\n",
       "\n",
       "    .dataframe thead th {\n",
       "        text-align: right;\n",
       "    }\n",
       "</style>\n",
       "<table border=\"1\" class=\"dataframe\">\n",
       "  <thead>\n",
       "    <tr style=\"text-align: right;\">\n",
       "      <th></th>\n",
       "      <th>STATEFP</th>\n",
       "      <th>COUNTYFP</th>\n",
       "      <th>COUNTYNS</th>\n",
       "      <th>AFFGEOID</th>\n",
       "      <th>NAME</th>\n",
       "      <th>LSAD</th>\n",
       "      <th>ALAND</th>\n",
       "      <th>AWATER</th>\n",
       "      <th>geometry</th>\n",
       "      <th>educational_equity</th>\n",
       "    </tr>\n",
       "    <tr>\n",
       "      <th>fips</th>\n",
       "      <th></th>\n",
       "      <th></th>\n",
       "      <th></th>\n",
       "      <th></th>\n",
       "      <th></th>\n",
       "      <th></th>\n",
       "      <th></th>\n",
       "      <th></th>\n",
       "      <th></th>\n",
       "      <th></th>\n",
       "    </tr>\n",
       "  </thead>\n",
       "  <tbody>\n",
       "    <tr>\n",
       "      <th>51610</th>\n",
       "      <td>51</td>\n",
       "      <td>610</td>\n",
       "      <td>01498423</td>\n",
       "      <td>0500000US51610</td>\n",
       "      <td>Falls Church</td>\n",
       "      <td>25</td>\n",
       "      <td>5300264</td>\n",
       "      <td>32</td>\n",
       "      <td>POLYGON ((-77.194712 38.899073, -77.191266 38....</td>\n",
       "      <td>0.991061</td>\n",
       "    </tr>\n",
       "    <tr>\n",
       "      <th>08035</th>\n",
       "      <td>08</td>\n",
       "      <td>035</td>\n",
       "      <td>00198133</td>\n",
       "      <td>0500000US08035</td>\n",
       "      <td>Douglas</td>\n",
       "      <td>06</td>\n",
       "      <td>2176069189</td>\n",
       "      <td>6950848</td>\n",
       "      <td>POLYGON ((-105.327393 39.130873, -105.324774 3...</td>\n",
       "      <td>0.768318</td>\n",
       "    </tr>\n",
       "    <tr>\n",
       "      <th>31009</th>\n",
       "      <td>31</td>\n",
       "      <td>009</td>\n",
       "      <td>00835827</td>\n",
       "      <td>0500000US31009</td>\n",
       "      <td>Blaine</td>\n",
       "      <td>06</td>\n",
       "      <td>1840674086</td>\n",
       "      <td>9443894</td>\n",
       "      <td>POLYGON ((-100.267622 42.086147, -100.167605 4...</td>\n",
       "      <td>0.726829</td>\n",
       "    </tr>\n",
       "    <tr>\n",
       "      <th>08091</th>\n",
       "      <td>08</td>\n",
       "      <td>091</td>\n",
       "      <td>00198161</td>\n",
       "      <td>0500000US08091</td>\n",
       "      <td>Ouray</td>\n",
       "      <td>06</td>\n",
       "      <td>1402719352</td>\n",
       "      <td>1599543</td>\n",
       "      <td>POLYGON ((-108.13238 38.331573, -108.011681 38...</td>\n",
       "      <td>0.665589</td>\n",
       "    </tr>\n",
       "    <tr>\n",
       "      <th>35028</th>\n",
       "      <td>35</td>\n",
       "      <td>028</td>\n",
       "      <td>01702366</td>\n",
       "      <td>0500000US35028</td>\n",
       "      <td>Los Alamos</td>\n",
       "      <td>06</td>\n",
       "      <td>282821648</td>\n",
       "      <td>229869</td>\n",
       "      <td>POLYGON ((-106.418546 35.820743, -106.417326 3...</td>\n",
       "      <td>0.627537</td>\n",
       "    </tr>\n",
       "  </tbody>\n",
       "</table>\n",
       "</div>"
      ],
      "text/plain": [
       "      STATEFP COUNTYFP  COUNTYNS        AFFGEOID          NAME LSAD  \\\n",
       "fips                                                                  \n",
       "51610      51      610  01498423  0500000US51610  Falls Church   25   \n",
       "08035      08      035  00198133  0500000US08035       Douglas   06   \n",
       "31009      31      009  00835827  0500000US31009        Blaine   06   \n",
       "08091      08      091  00198161  0500000US08091         Ouray   06   \n",
       "35028      35      028  01702366  0500000US35028    Los Alamos   06   \n",
       "\n",
       "            ALAND   AWATER                                           geometry  \\\n",
       "fips                                                                            \n",
       "51610     5300264       32  POLYGON ((-77.194712 38.899073, -77.191266 38....   \n",
       "08035  2176069189  6950848  POLYGON ((-105.327393 39.130873, -105.324774 3...   \n",
       "31009  1840674086  9443894  POLYGON ((-100.267622 42.086147, -100.167605 4...   \n",
       "08091  1402719352  1599543  POLYGON ((-108.13238 38.331573, -108.011681 38...   \n",
       "35028   282821648   229869  POLYGON ((-106.418546 35.820743, -106.417326 3...   \n",
       "\n",
       "       educational_equity  \n",
       "fips                       \n",
       "51610            0.991061  \n",
       "08035            0.768318  \n",
       "31009            0.726829  \n",
       "08091            0.665589  \n",
       "35028            0.627537  "
      ]
     },
     "metadata": {},
     "output_type": "display_data"
    }
   ],
   "source": [
    "# sort the counties by education equity measure in descending order\n",
    "us_fips_sorted = us_fips.sort_values(by=['educational_equity'], ascending=False)\n",
    "display(us_fips_sorted.head())"
   ]
  },
  {
   "cell_type": "markdown",
   "metadata": {},
   "source": [
    "Looks like Douglas county is second only Falls Church county which has an education equity measure of 0.991061. Why didn't we see it on the map? Let's just show the top 5 counties and center on the top score. Let's draw a new map centering on the county with the top score, Falls Church:"
   ]
  },
  {
   "cell_type": "code",
   "execution_count": 13,
   "metadata": {},
   "outputs": [
    {
     "data": {
      "application/vnd.jupyter.widget-view+json": {
       "model_id": "3e7e2bb45b0246c2b5c3904af1587856",
       "version_major": 2,
       "version_minor": 0
      },
      "text/plain": [
       "Map(basemap={'url': 'https://{s}.tile.openstreetmap.org/{z}/{x}/{y}.png', 'max_zoom': 19, 'attribution': 'Map …"
      ]
     },
     "metadata": {},
     "output_type": "display_data"
    }
   ],
   "source": [
    "# extract lon/lat of the highest score\n",
    "center = us_fips_sorted.iloc[0].geometry.centroid\n",
    "lon, lat = center.x, center.y\n",
    "\n",
    "# zoom in on the southeastern US\n",
    "m = Map(center=[lat, lon], zoom=10, layout=Layout(height='600px', align_self='stretch'))\n",
    "m"
   ]
  },
  {
   "cell_type": "markdown",
   "metadata": {},
   "source": [
    "And create a choropleth using only the top 5 scores:"
   ]
  },
  {
   "cell_type": "code",
   "execution_count": 14,
   "metadata": {},
   "outputs": [
    {
     "data": {
      "application/vnd.jupyter.widget-view+json": {
       "model_id": "f857054621ef429db5985d4eb14cf07d",
       "version_major": 2,
       "version_minor": 0
      },
      "text/plain": [
       "VBox(children=(Map(basemap={'url': 'https://{s}.tile.openstreetmap.org/{z}/{x}/{y}.png', 'max_zoom': 19, 'attr…"
      ]
     },
     "metadata": {},
     "output_type": "display_data"
    }
   ],
   "source": [
    "# plot\n",
    "l = Choropleth(geo_data=us_fips_sorted.head().__geo_interface__,\n",
    "               choro_data=us_fips_sorted.head()['educational_equity'].to_dict(),\n",
    "               colormap=linear.RdBu_11,\n",
    "               border_color='black',\n",
    "               style={'opacity': 1, 'fillOpacity': 0.8, 'dashArray': '1'},\n",
    "               hover_style={'fillColor': 'red'})\n",
    "\n",
    "def hover_handler(event=None, id=None, properties=None):\n",
    "    label.value = \"County: {} | educational equity measure: {}\".format(properties['NAME'],\n",
    "                                                                       properties['educational_equity'])\n",
    "\n",
    "l.on_hover(hover_handler)\n",
    "m.add_layer(l)\n",
    "VBox([m, label])"
   ]
  },
  {
   "cell_type": "markdown",
   "metadata": {},
   "source": [
    "As you zoom out to view all of the counties in the top 5, we see that the county of Church Falls is spatially very small in comparison to the others.\n",
    "\n",
    "Feel free to do this sort of exploration on other variables in other disaster resilience components as well."
   ]
  },
  {
   "cell_type": "code",
   "execution_count": null,
   "metadata": {},
   "outputs": [],
   "source": []
  }
 ],
 "metadata": {
  "kernelspec": {
   "display_name": "Python 3",
   "language": "python",
   "name": "python3"
  },
  "language_info": {
   "codemirror_mode": {
    "name": "ipython",
    "version": 3
   },
   "file_extension": ".py",
   "mimetype": "text/x-python",
   "name": "python",
   "nbconvert_exporter": "python",
   "pygments_lexer": "ipython3",
   "version": "3.7.1"
  },
  "toc": {
   "nav_menu": {},
   "number_sections": true,
   "sideBar": true,
   "skip_h1_title": false,
   "toc_cell": true,
   "toc_position": {},
   "toc_section_display": "block",
   "toc_window_display": false
  }
 },
 "nbformat": 4,
 "nbformat_minor": 2
}
